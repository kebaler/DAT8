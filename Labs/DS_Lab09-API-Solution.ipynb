{
 "metadata": {
  "name": "",
  "signature": "sha256:b6d04e40c33d7e7750bd14421c87ee21d2c5e5b398664e12537569fde80e3f27"
 },
 "nbformat": 3,
 "nbformat_minor": 0,
 "worksheets": [
  {
   "cells": [
    {
     "cell_type": "markdown",
     "metadata": {},
     "source": [
      "Homework Solution\n",
      "===================\n",
      "Twitter & MongoDB\n",
      "-------------------\n",
      "DAT8"
     ]
    },
    {
     "cell_type": "markdown",
     "metadata": {},
     "source": [
      "###Background:\n",
      "\n",
      "The Yahoo! Where On Earth IDs\n",
      "- Canada : 23424775    \n",
      "- US     : 23424977\n",
      "\n",
      "###Lab: \n",
      "Find Twitter trends in Canada and compare it to US trends. What's the difference between them?  \n",
      "1. Insert the last 100 tweets for all Canada-only trends into a canada collection.\n",
      "2. Insert the last 100 tweets for all US-only trends into a us collections.\n",
      "3. For this (small and not very representative) sample, which users have the highest follower_count\n"
     ]
    },
    {
     "cell_type": "markdown",
     "metadata": {},
     "source": [
      "###Homework:\n",
      "\n",
      "Using the US and Canada Collections created during the lab:\n",
      "\n",
      "1. Find tweets where 'retweet_count': {\"$gt\": 0}.\n",
      "2. What is their count?\n",
      "3. Is there anything about them that stands out as retweetable"
     ]
    },
    {
     "cell_type": "markdown",
     "metadata": {},
     "source": [
      "##Set up the environment"
     ]
    },
    {
     "cell_type": "markdown",
     "metadata": {},
     "source": []
    },
    {
     "cell_type": "code",
     "collapsed": false,
     "input": [
      "# standard library:\n",
      "import os  \n",
      "\n",
      "import numpy as np\n",
      "from pprint import pprint\n",
      "\n",
      "# other modules:\n",
      "import matplotlib.pyplot as plt\n",
      "import pandas as pd\n",
      "import twitter\n",
      "import yaml\n",
      "\n",
      "from pymongo import MongoClient"
     ],
     "language": "python",
     "metadata": {},
     "outputs": [],
     "prompt_number": 1
    },
    {
     "cell_type": "code",
     "collapsed": false,
     "input": [
      "# Constants\n",
      "US_WOE_ID = 23424977\n",
      "CN_WOE_ID = 23424775\n",
      "\n",
      "tweet_count = 100"
     ],
     "language": "python",
     "metadata": {},
     "outputs": [],
     "prompt_number": 2
    },
    {
     "cell_type": "markdown",
     "metadata": {},
     "source": [
      "Required: Twitter credentials stored in a file in home directory."
     ]
    },
    {
     "cell_type": "markdown",
     "metadata": {},
     "source": [
      "##Connect to twitter and Connect to mongodb\n"
     ]
    },
    {
     "cell_type": "code",
     "collapsed": false,
     "input": [
      "%%bash\n",
      "ls ~/api_cred.yml"
     ],
     "language": "python",
     "metadata": {},
     "outputs": [
      {
       "output_type": "stream",
       "stream": "stdout",
       "text": [
        "/Users/dstevens/api_cred.yml\n"
       ]
      }
     ],
     "prompt_number": 3
    },
    {
     "cell_type": "code",
     "collapsed": false,
     "input": [
      "credentials = yaml.load(open(os.path.expanduser('~/api_cred.yml')))\n",
      "auth = twitter.oauth.OAuth(credentials['ACCESS_TOKEN'], \n",
      "                           credentials['ACCESS_TOKEN_SECRET'],\n",
      "                           credentials['API_KEY'],\n",
      "                           credentials['API_SECRET'])\n",
      "\n",
      "twitter_api = twitter.Twitter(auth=auth)\n",
      "\n"
     ],
     "language": "python",
     "metadata": {},
     "outputs": [],
     "prompt_number": 4
    },
    {
     "cell_type": "markdown",
     "metadata": {},
     "source": [
      "###NOTE: Make certain to start mongodb on your localhost, before the next cell is executed"
     ]
    },
    {
     "cell_type": "markdown",
     "metadata": {},
     "source": [
      "####1. If it doens't exist, create a folder for the mongo Database.  \n",
      "mkdir -p data/db\n",
      "\n",
      "####2. Start the mongoDB daemon:\n",
      "mongod --dbpath data/db"
     ]
    },
    {
     "cell_type": "code",
     "collapsed": false,
     "input": [
      "c = MongoClient()\n",
      "# create or attach to the \"twitter\" database\n",
      "db = c.twitter"
     ],
     "language": "python",
     "metadata": {},
     "outputs": [],
     "prompt_number": 6
    },
    {
     "cell_type": "markdown",
     "metadata": {},
     "source": [
      "##Lab 0. Set up: get the US-only and Canada-only trends"
     ]
    },
    {
     "cell_type": "code",
     "collapsed": false,
     "input": [
      "cn_trends = twitter_api.trends.place(_id=CN_WOE_ID)\n",
      "\n",
      "cn_trends_set = np.array([trend['name'] for trends in cn_trends\n",
      "                        for trend in trends['trends']])\n",
      "\n",
      "us_trends = twitter_api.trends.place(_id=US_WOE_ID)\n",
      "\n",
      "us_trends_set =  np.array([trend['name'] for trends in us_trends\n",
      "                     for trend in trends['trends']]) \n",
      "\n"
     ],
     "language": "python",
     "metadata": {},
     "outputs": [],
     "prompt_number": 7
    },
    {
     "cell_type": "code",
     "collapsed": false,
     "input": [
      "us_only_trends = np.setdiff1d(us_trends_set,cn_trends_set)\n",
      "us_only_trends"
     ],
     "language": "python",
     "metadata": {},
     "outputs": [
      {
       "metadata": {},
       "output_type": "pyout",
       "prompt_number": 8,
       "text": [
        "array([u'#2DaysUntilFirstFlightHomeVideo', u'#CMA2014',\n",
        "       u'#CMAMusicFestival', u'#TwoJennas', u'Brendan Ryan', u'Bye Britt',\n",
        "       u'CMAs', u'Delila', u'Sydney and Jenna'], \n",
        "      dtype='<U31')"
       ]
      }
     ],
     "prompt_number": 8
    },
    {
     "cell_type": "code",
     "collapsed": false,
     "input": [
      "cn_only_trends = np.setdiff1d(cn_trends_set,us_trends_set)\n",
      "cn_only_trends"
     ],
     "language": "python",
     "metadata": {},
     "outputs": [
      {
       "metadata": {},
       "output_type": "pyout",
       "prompt_number": 9,
       "text": [
        "array([u'#CMAfest', u'#ChirpChairs', u'#RunnersUp', u'#spintowin',\n",
        "       u'Brett Lawrie', u'Buehrle', u'Genie', u'Guardians of the Galaxy',\n",
        "       u'Spencer'], \n",
        "      dtype='<U23')"
       ]
      }
     ],
     "prompt_number": 9
    },
    {
     "cell_type": "markdown",
     "metadata": {},
     "source": [
      "Create a function to perform the search:"
     ]
    },
    {
     "cell_type": "code",
     "collapsed": false,
     "input": [
      "def obtain_search_results(q_in, count_in) :\n",
      "    if type(q_in) != list :\n",
      "        q_list = [q_in]\n",
      "    else :\n",
      "        q_list=q_in\n",
      "        \n",
      "    statuses = []\n",
      "    for q_do in q_list :\n",
      "        search_results = twitter_api.search.tweets(q=q_do, count=count_in)\n",
      "\n",
      "        statuses += search_results['statuses']\n",
      "        search_results['search_metadata'].get('next_results')    \n",
      "        if 'next_results' in search_results['search_metadata']:\n",
      "            next_results = search_results['search_metadata']['next_results']\n",
      "            kwargs = dict([ kv.split('=') for kv in next_results[1:].split(\"&\") ])\n",
      "            search_results = twitter_api.search.tweets(**kwargs)\n",
      "            statuses += search_results['statuses']\n",
      "        \n",
      "    return statuses"
     ],
     "language": "python",
     "metadata": {},
     "outputs": [],
     "prompt_number": 10
    },
    {
     "cell_type": "markdown",
     "metadata": {},
     "source": [
      "##Lab 1. Insert the last 100 tweets for all Canada-only trends into a canada collection."
     ]
    },
    {
     "cell_type": "code",
     "collapsed": false,
     "input": [
      "q_cn = [trend for trend in cn_only_trends ]\n",
      "statuses=obtain_search_results(q_cn,tweet_count)\n",
      "statuses[:1]"
     ],
     "language": "python",
     "metadata": {},
     "outputs": [
      {
       "metadata": {},
       "output_type": "pyout",
       "prompt_number": 11,
       "text": [
        "[{u'contributors': None,\n",
        "  u'coordinates': None,\n",
        "  u'created_at': u'Tue Aug 05 23:47:52 +0000 2014',\n",
        "  u'entities': {u'hashtags': [{u'indices': [22, 30], u'text': u'CMAfest'},\n",
        "    {u'indices': [54, 60], u'text': u'tvtag'},\n",
        "    {u'indices': [84, 92], u'text': u'CMAfest'}],\n",
        "   u'symbols': [],\n",
        "   u'urls': [{u'display_url': u'tvt.ag/1oaiSuk',\n",
        "     u'expanded_url': u'http://tvt.ag/1oaiSuk',\n",
        "     u'indices': [61, 83],\n",
        "     u'url': u'http://t.co/372sxdtdQm'}],\n",
        "   u'user_mentions': []},\n",
        "  u'favorite_count': 0,\n",
        "  u'favorited': False,\n",
        "  u'geo': None,\n",
        "  u'id': 496804815520157696,\n",
        "  u'id_str': u'496804815520157696',\n",
        "  u'in_reply_to_screen_name': None,\n",
        "  u'in_reply_to_status_id': None,\n",
        "  u'in_reply_to_status_id_str': None,\n",
        "  u'in_reply_to_user_id': None,\n",
        "  u'in_reply_to_user_id_str': None,\n",
        "  u'lang': u'en',\n",
        "  u'metadata': {u'iso_language_code': u'en', u'result_type': u'recent'},\n",
        "  u'place': None,\n",
        "  u'possibly_sensitive': False,\n",
        "  u'retweet_count': 0,\n",
        "  u'retweeted': False,\n",
        "  u'source': u'<a href=\"http://tvtag.com\" rel=\"nofollow\">tvtag.com</a>',\n",
        "  u'text': u'Just got this limited #CMAfest sticker. Get yours now #tvtag http://t.co/372sxdtdQm #CMAfest',\n",
        "  u'truncated': False,\n",
        "  u'user': {u'contributors_enabled': False,\n",
        "   u'created_at': u'Fri Jul 01 20:07:59 +0000 2011',\n",
        "   u'default_profile': False,\n",
        "   u'default_profile_image': False,\n",
        "   u'description': u\"10-2-09: Meeting T.Swift Day. Don't you dream impossible dreams? - Taylor Swift. Just a 23 year old wide-eyed girl who is desperately in love with you..\",\n",
        "   u'entities': {u'description': {u'urls': []}},\n",
        "   u'favourites_count': 1331,\n",
        "   u'follow_request_sent': False,\n",
        "   u'followers_count': 248,\n",
        "   u'following': False,\n",
        "   u'friends_count': 190,\n",
        "   u'geo_enabled': True,\n",
        "   u'id': 327580448,\n",
        "   u'id_str': u'327580448',\n",
        "   u'is_translation_enabled': False,\n",
        "   u'is_translator': False,\n",
        "   u'lang': u'en',\n",
        "   u'listed_count': 5,\n",
        "   u'location': u'Taylor Swift Concert',\n",
        "   u'name': u'Amy Lynn ',\n",
        "   u'notifications': False,\n",
        "   u'profile_background_color': u'1066E6',\n",
        "   u'profile_background_image_url': u'http://pbs.twimg.com/profile_background_images/620765878/zgs3qe8a6pm4d1v3312g.png',\n",
        "   u'profile_background_image_url_https': u'https://pbs.twimg.com/profile_background_images/620765878/zgs3qe8a6pm4d1v3312g.png',\n",
        "   u'profile_background_tile': True,\n",
        "   u'profile_banner_url': u'https://pbs.twimg.com/profile_banners/327580448/1396953847',\n",
        "   u'profile_image_url': u'http://pbs.twimg.com/profile_images/2692932924/85064dd069113ffa5e07290018fdeadc_normal.jpeg',\n",
        "   u'profile_image_url_https': u'https://pbs.twimg.com/profile_images/2692932924/85064dd069113ffa5e07290018fdeadc_normal.jpeg',\n",
        "   u'profile_link_color': u'F50A44',\n",
        "   u'profile_sidebar_border_color': u'FFFFFF',\n",
        "   u'profile_sidebar_fill_color': u'7AC3EE',\n",
        "   u'profile_text_color': u'3D1957',\n",
        "   u'profile_use_background_image': True,\n",
        "   u'protected': False,\n",
        "   u'screen_name': u'AmyLynn2013',\n",
        "   u'statuses_count': 13686,\n",
        "   u'time_zone': u'Eastern Time (US & Canada)',\n",
        "   u'url': None,\n",
        "   u'utc_offset': -14400,\n",
        "   u'verified': False}}]"
       ]
      }
     ],
     "prompt_number": 11
    },
    {
     "cell_type": "code",
     "collapsed": false,
     "input": [
      "statuses_ids = db.cn_tweets.insert(statuses)\n",
      "statuses_ids[:5]"
     ],
     "language": "python",
     "metadata": {},
     "outputs": [
      {
       "metadata": {},
       "output_type": "pyout",
       "prompt_number": 40,
       "text": [
        "[ObjectId('53e004e9d99f0c3002ada3f2'),\n",
        " ObjectId('53e004e9d99f0c3002ada3f3'),\n",
        " ObjectId('53e004e9d99f0c3002ada3f4'),\n",
        " ObjectId('53e004e9d99f0c3002ada3f5'),\n",
        " ObjectId('53e004e9d99f0c3002ada3f6')]"
       ]
      }
     ],
     "prompt_number": 40
    },
    {
     "cell_type": "markdown",
     "metadata": {},
     "source": [
      "##Lab 2. Insert the last 100 tweets for all US-only trends into a us collections."
     ]
    },
    {
     "cell_type": "code",
     "collapsed": false,
     "input": [
      "q_us = [trend for trend in us_only_trends ]\n",
      "statuses=obtain_search_results(q_us,tweet_count)\n",
      "statuses[:1]"
     ],
     "language": "python",
     "metadata": {},
     "outputs": [
      {
       "metadata": {},
       "output_type": "pyout",
       "prompt_number": 41,
       "text": [
        "[{u'contributors': None,\n",
        "  u'coordinates': None,\n",
        "  u'created_at': u'Mon Aug 04 22:10:32 +0000 2014',\n",
        "  u'entities': {u'hashtags': [{u'indices': [71, 76], u'text': u'news'}],\n",
        "   u'symbols': [],\n",
        "   u'urls': [{u'display_url': u'ift.tt/1s68mpy',\n",
        "     u'expanded_url': u'http://ift.tt/1s68mpy',\n",
        "     u'indices': [79, 101],\n",
        "     u'url': u'http://t.co/flwamBpRpQ'}],\n",
        "   u'user_mentions': []},\n",
        "  u'favorite_count': 0,\n",
        "  u'favorited': False,\n",
        "  u'geo': None,\n",
        "  u'id': 496417929559543808,\n",
        "  u'id_str': u'496417929559543808',\n",
        "  u'in_reply_to_screen_name': None,\n",
        "  u'in_reply_to_status_id': None,\n",
        "  u'in_reply_to_status_id_str': None,\n",
        "  u'in_reply_to_user_id': None,\n",
        "  u'in_reply_to_user_id_str': None,\n",
        "  u'lang': u'en',\n",
        "  u'metadata': {u'iso_language_code': u'en', u'result_type': u'recent'},\n",
        "  u'place': None,\n",
        "  u'possibly_sensitive': False,\n",
        "  u'retweet_count': 0,\n",
        "  u'retweeted': False,\n",
        "  u'source': u'<a href=\"http://ifttt.com\" rel=\"nofollow\">IFTTT</a>',\n",
        "  u'text': u\"Patient With Ebola-Like Symptoms in 'Strict Isolation' at NYC Hospital #news - http://t.co/flwamBpRpQ\",\n",
        "  u'truncated': False,\n",
        "  u'user': {u'contributors_enabled': False,\n",
        "   u'created_at': u'Sat Mar 09 15:48:26 +0000 2013',\n",
        "   u'default_profile': True,\n",
        "   u'default_profile_image': True,\n",
        "   u'description': u'',\n",
        "   u'entities': {u'description': {u'urls': []}},\n",
        "   u'favourites_count': 0,\n",
        "   u'follow_request_sent': False,\n",
        "   u'followers_count': 20,\n",
        "   u'following': False,\n",
        "   u'friends_count': 0,\n",
        "   u'geo_enabled': False,\n",
        "   u'id': 1254696428,\n",
        "   u'id_str': u'1254696428',\n",
        "   u'is_translation_enabled': False,\n",
        "   u'is_translator': False,\n",
        "   u'lang': u'en',\n",
        "   u'listed_count': 8,\n",
        "   u'location': u'',\n",
        "   u'name': u'GWIS LLC',\n",
        "   u'notifications': False,\n",
        "   u'profile_background_color': u'C0DEED',\n",
        "   u'profile_background_image_url': u'http://abs.twimg.com/images/themes/theme1/bg.png',\n",
        "   u'profile_background_image_url_https': u'https://abs.twimg.com/images/themes/theme1/bg.png',\n",
        "   u'profile_background_tile': False,\n",
        "   u'profile_image_url': u'http://abs.twimg.com/sticky/default_profile_images/default_profile_6_normal.png',\n",
        "   u'profile_image_url_https': u'https://abs.twimg.com/sticky/default_profile_images/default_profile_6_normal.png',\n",
        "   u'profile_link_color': u'0084B4',\n",
        "   u'profile_sidebar_border_color': u'C0DEED',\n",
        "   u'profile_sidebar_fill_color': u'DDEEF6',\n",
        "   u'profile_text_color': u'333333',\n",
        "   u'profile_use_background_image': True,\n",
        "   u'protected': False,\n",
        "   u'screen_name': u'GWIS_LLC',\n",
        "   u'statuses_count': 26728,\n",
        "   u'time_zone': None,\n",
        "   u'url': None,\n",
        "   u'utc_offset': None,\n",
        "   u'verified': False}}]"
       ]
      }
     ],
     "prompt_number": 41
    },
    {
     "cell_type": "code",
     "collapsed": false,
     "input": [
      "statuses_ids = db.us_tweets.insert(statuses)\n",
      "statuses_ids[:5]"
     ],
     "language": "python",
     "metadata": {},
     "outputs": [
      {
       "metadata": {},
       "output_type": "pyout",
       "prompt_number": 42,
       "text": [
        "[ObjectId('53e004eed99f0c3002ada773'),\n",
        " ObjectId('53e004eed99f0c3002ada774'),\n",
        " ObjectId('53e004eed99f0c3002ada775'),\n",
        " ObjectId('53e004eed99f0c3002ada776'),\n",
        " ObjectId('53e004eed99f0c3002ada777')]"
       ]
      }
     ],
     "prompt_number": 42
    },
    {
     "cell_type": "markdown",
     "metadata": {},
     "source": [
      "##Lab 3. For this (small and not very representative) sample, which users have the highest follower_count"
     ]
    },
    {
     "cell_type": "markdown",
     "metadata": {},
     "source": [
      "#### Create functions to \n",
      "- query the db collection\n",
      "- extract tweet details"
     ]
    },
    {
     "cell_type": "code",
     "collapsed": false,
     "input": [
      "def query_tweet_collection(tweet_db_collection):\n",
      "    return list(tweet_db_collection.find(fields=['user.name','entities.user_mentions', 'user.followers_count']))\n",
      "\n",
      "def extract_some_tweet_details (tweet_list) :\n",
      "    return pd.DataFrame({'user_name' : tweet['user'].get('name'),\n",
      "                         'user_mentions': len(tweet['entities']['user_mentions']), \n",
      "                         'followers_count': tweet['user'].get('followers_count')} for tweet in tweet_list)\n"
     ],
     "language": "python",
     "metadata": {},
     "outputs": [],
     "prompt_number": 43
    },
    {
     "cell_type": "code",
     "collapsed": false,
     "input": [
      "us_tweet_details = query_tweet_collection(db.us_tweets)\n",
      "\n",
      "us_tweet_df = extract_some_tweet_details(us_tweet_details)\n",
      "\n",
      "us_tweet_df.head()\n",
      "us_tweet_df[\"followers_count\"].describe()"
     ],
     "language": "python",
     "metadata": {},
     "outputs": [
      {
       "metadata": {},
       "output_type": "pyout",
       "prompt_number": 44,
       "text": [
        "count       797.000000\n",
        "mean       2297.848181\n",
        "std       12890.651626\n",
        "min           0.000000\n",
        "25%         221.000000\n",
        "50%         520.000000\n",
        "75%        1306.000000\n",
        "max      342813.000000\n",
        "dtype: float64"
       ]
      }
     ],
     "prompt_number": 44
    },
    {
     "cell_type": "code",
     "collapsed": false,
     "input": [
      "cn_tweet_details = query_tweet_collection(db.cn_tweets)\n",
      "\n",
      "cn_tweet_df = extract_some_tweet_details(cn_tweet_details)\n",
      "\n",
      "cn_tweet_df.head()\n",
      "cn_tweet_df[\"followers_count\"].describe()"
     ],
     "language": "python",
     "metadata": {},
     "outputs": [
      {
       "metadata": {},
       "output_type": "pyout",
       "prompt_number": 45,
       "text": [
        "count       897.000000\n",
        "mean       1916.400223\n",
        "std        6607.998323\n",
        "min           1.000000\n",
        "25%         205.000000\n",
        "50%         646.000000\n",
        "75%        1531.000000\n",
        "max      128550.000000\n",
        "dtype: float64"
       ]
      }
     ],
     "prompt_number": 45
    },
    {
     "cell_type": "markdown",
     "metadata": {},
     "source": [
      "##HW 1. Find tweets where 'retweet_count': {\"$gt\": 0}."
     ]
    },
    {
     "cell_type": "code",
     "collapsed": false,
     "input": [
      "retweet_set=[t for t in db.us_tweets.find( {'retweet_count' : {\"$gt\":0}})]\n",
      "\n",
      "len(retweet_set)\n"
     ],
     "language": "python",
     "metadata": {},
     "outputs": [
      {
       "metadata": {},
       "output_type": "pyout",
       "prompt_number": 46,
       "text": [
        "322"
       ]
      }
     ],
     "prompt_number": 46
    },
    {
     "cell_type": "code",
     "collapsed": false,
     "input": [
      "# query collection for tweers that were retweeted\n",
      "us_retweets = pd.DataFrame([t for t in db.us_tweets.find( {'retweet_count' : {\"$gt\":0}})])\n",
      "cn_retweets = pd.DataFrame([t for t in db.cn_tweets.find( {'retweet_count' : {\"$gt\":0}})])"
     ],
     "language": "python",
     "metadata": {},
     "outputs": [],
     "prompt_number": 47
    },
    {
     "cell_type": "markdown",
     "metadata": {},
     "source": [
      "##HW 2. What is their count?"
     ]
    },
    {
     "cell_type": "code",
     "collapsed": false,
     "input": [
      "\n",
      "print \"US: %s out of %s top trend tweets were retweeted\" % (us_retweets.id.count() , db.us_tweets.count())\n",
      "print \"CN: %s out of %s top trend tweets were retweeted\" % (cn_retweets.id.count() , db.cn_tweets.count())"
     ],
     "language": "python",
     "metadata": {},
     "outputs": [
      {
       "output_type": "stream",
       "stream": "stdout",
       "text": [
        "US: 322 out of 797 top trend tweets were retweeted\n",
        "CN: 512 out of 897 top trend tweets were retweeted\n"
       ]
      }
     ],
     "prompt_number": 48
    },
    {
     "cell_type": "markdown",
     "metadata": {},
     "source": [
      "##HW 3. Is there anything about them that stands out as retweetable"
     ]
    },
    {
     "cell_type": "markdown",
     "metadata": {},
     "source": [
      "#### which tags have the most retweets?"
     ]
    },
    {
     "cell_type": "code",
     "collapsed": false,
     "input": [
      "def query_retweet_collection(tweet_db_collection):\n",
      "    return list(tweet_db_collection.find( {'retweet_count' : {\"$gt\":0}}, fields=['retweet_count','entities.hashtags']))\n",
      "\n",
      "def extract_some_retweet_details (tweet_list) :\n",
      "    return pd.DataFrame({'user_name' : tweet['user'].get('name'),\n",
      "                         'user_mentions': len(tweet['entities']['user_mentions']), \n",
      "                         'followers_count': tweet['user'].get('followers_count')} for tweet in tweet_list)"
     ],
     "language": "python",
     "metadata": {},
     "outputs": [],
     "prompt_number": 49
    },
    {
     "cell_type": "code",
     "collapsed": false,
     "input": [
      "cn_retweet_df = pd.DataFrame(query_retweet_collection(db.cn_tweets))"
     ],
     "language": "python",
     "metadata": {},
     "outputs": [],
     "prompt_number": 50
    },
    {
     "cell_type": "code",
     "collapsed": false,
     "input": [],
     "language": "python",
     "metadata": {},
     "outputs": [],
     "prompt_number": 50
    },
    {
     "cell_type": "code",
     "collapsed": false,
     "input": [
      "cn_retweet_df[\"hashtags\"] = cn_retweet_df.entities.apply(lambda tweet: [ hashtag['text'] for hashtag in tweet['hashtags'] ])"
     ],
     "language": "python",
     "metadata": {},
     "outputs": [],
     "prompt_number": 51
    },
    {
     "cell_type": "code",
     "collapsed": false,
     "input": [
      "cn_retweet_df.head()"
     ],
     "language": "python",
     "metadata": {},
     "outputs": [
      {
       "html": [
        "<div style=\"max-height:1000px;max-width:1500px;overflow:auto;\">\n",
        "<table border=\"1\" class=\"dataframe\">\n",
        "  <thead>\n",
        "    <tr style=\"text-align: right;\">\n",
        "      <th></th>\n",
        "      <th>_id</th>\n",
        "      <th>entities</th>\n",
        "      <th>retweet_count</th>\n",
        "      <th>hashtags</th>\n",
        "    </tr>\n",
        "  </thead>\n",
        "  <tbody>\n",
        "    <tr>\n",
        "      <th>0</th>\n",
        "      <td> 53e004e9d99f0c3002ada3f7</td>\n",
        "      <td> {u'hashtags': [{u'indices': [20, 26], u'text':...</td>\n",
        "      <td>    19</td>\n",
        "      <td>                          [PHOTO]</td>\n",
        "    </tr>\n",
        "    <tr>\n",
        "      <th>1</th>\n",
        "      <td> 53e004e9d99f0c3002ada3f8</td>\n",
        "      <td> {u'hashtags': [{u'indices': [59, 63], u'text':...</td>\n",
        "      <td>   389</td>\n",
        "      <td>                            [WWI]</td>\n",
        "    </tr>\n",
        "    <tr>\n",
        "      <th>2</th>\n",
        "      <td> 53e004e9d99f0c3002ada3fa</td>\n",
        "      <td> {u'hashtags': [{u'indices': [77, 92], u'text':...</td>\n",
        "      <td>    25</td>\n",
        "      <td> [VamosArgentina, RumboalMundial]</td>\n",
        "    </tr>\n",
        "    <tr>\n",
        "      <th>3</th>\n",
        "      <td> 53e004e9d99f0c3002ada3fc</td>\n",
        "      <td>                                 {u'hashtags': []}</td>\n",
        "      <td> 90450</td>\n",
        "      <td>                               []</td>\n",
        "    </tr>\n",
        "    <tr>\n",
        "      <th>4</th>\n",
        "      <td> 53e004e9d99f0c3002ada3fe</td>\n",
        "      <td>                                 {u'hashtags': []}</td>\n",
        "      <td> 82140</td>\n",
        "      <td>                               []</td>\n",
        "    </tr>\n",
        "  </tbody>\n",
        "</table>\n",
        "</div>"
       ],
       "metadata": {},
       "output_type": "pyout",
       "prompt_number": 52,
       "text": [
        "                        _id  \\\n",
        "0  53e004e9d99f0c3002ada3f7   \n",
        "1  53e004e9d99f0c3002ada3f8   \n",
        "2  53e004e9d99f0c3002ada3fa   \n",
        "3  53e004e9d99f0c3002ada3fc   \n",
        "4  53e004e9d99f0c3002ada3fe   \n",
        "\n",
        "                                            entities  retweet_count  \\\n",
        "0  {u'hashtags': [{u'indices': [20, 26], u'text':...             19   \n",
        "1  {u'hashtags': [{u'indices': [59, 63], u'text':...            389   \n",
        "2  {u'hashtags': [{u'indices': [77, 92], u'text':...             25   \n",
        "3                                  {u'hashtags': []}          90450   \n",
        "4                                  {u'hashtags': []}          82140   \n",
        "\n",
        "                           hashtags  \n",
        "0                           [PHOTO]  \n",
        "1                             [WWI]  \n",
        "2  [VamosArgentina, RumboalMundial]  \n",
        "3                                []  \n",
        "4                                []  "
       ]
      }
     ],
     "prompt_number": 52
    },
    {
     "cell_type": "code",
     "collapsed": false,
     "input": [
      "apply_f = lambda tweet: [ {hashtag['text']:tweet['retweet_count']} for hashtag in tweet['entities']['hashtags']  ]\n",
      "\n",
      "cn_retweet_df[\"hashtags_dict\"] =    cn_retweet_df.apply(apply_f, axis=1)"
     ],
     "language": "python",
     "metadata": {},
     "outputs": [],
     "prompt_number": 53
    },
    {
     "cell_type": "code",
     "collapsed": false,
     "input": [
      "cn_retweet_df.head()"
     ],
     "language": "python",
     "metadata": {},
     "outputs": [
      {
       "html": [
        "<div style=\"max-height:1000px;max-width:1500px;overflow:auto;\">\n",
        "<table border=\"1\" class=\"dataframe\">\n",
        "  <thead>\n",
        "    <tr style=\"text-align: right;\">\n",
        "      <th></th>\n",
        "      <th>_id</th>\n",
        "      <th>entities</th>\n",
        "      <th>retweet_count</th>\n",
        "      <th>hashtags</th>\n",
        "      <th>hashtags_dict</th>\n",
        "    </tr>\n",
        "  </thead>\n",
        "  <tbody>\n",
        "    <tr>\n",
        "      <th>0</th>\n",
        "      <td> 53e004e9d99f0c3002ada3f7</td>\n",
        "      <td> {u'hashtags': [{u'indices': [20, 26], u'text':...</td>\n",
        "      <td>    19</td>\n",
        "      <td>                          [PHOTO]</td>\n",
        "      <td>                                  [{u'PHOTO': 19}]</td>\n",
        "    </tr>\n",
        "    <tr>\n",
        "      <th>1</th>\n",
        "      <td> 53e004e9d99f0c3002ada3f8</td>\n",
        "      <td> {u'hashtags': [{u'indices': [59, 63], u'text':...</td>\n",
        "      <td>   389</td>\n",
        "      <td>                            [WWI]</td>\n",
        "      <td>                                   [{u'WWI': 389}]</td>\n",
        "    </tr>\n",
        "    <tr>\n",
        "      <th>2</th>\n",
        "      <td> 53e004e9d99f0c3002ada3fa</td>\n",
        "      <td> {u'hashtags': [{u'indices': [77, 92], u'text':...</td>\n",
        "      <td>    25</td>\n",
        "      <td> [VamosArgentina, RumboalMundial]</td>\n",
        "      <td> [{u'VamosArgentina': 25}, {u'RumboalMundial': ...</td>\n",
        "    </tr>\n",
        "    <tr>\n",
        "      <th>3</th>\n",
        "      <td> 53e004e9d99f0c3002ada3fc</td>\n",
        "      <td>                                 {u'hashtags': []}</td>\n",
        "      <td> 90450</td>\n",
        "      <td>                               []</td>\n",
        "      <td>                                                []</td>\n",
        "    </tr>\n",
        "    <tr>\n",
        "      <th>4</th>\n",
        "      <td> 53e004e9d99f0c3002ada3fe</td>\n",
        "      <td>                                 {u'hashtags': []}</td>\n",
        "      <td> 82140</td>\n",
        "      <td>                               []</td>\n",
        "      <td>                                                []</td>\n",
        "    </tr>\n",
        "  </tbody>\n",
        "</table>\n",
        "</div>"
       ],
       "metadata": {},
       "output_type": "pyout",
       "prompt_number": 54,
       "text": [
        "                        _id  \\\n",
        "0  53e004e9d99f0c3002ada3f7   \n",
        "1  53e004e9d99f0c3002ada3f8   \n",
        "2  53e004e9d99f0c3002ada3fa   \n",
        "3  53e004e9d99f0c3002ada3fc   \n",
        "4  53e004e9d99f0c3002ada3fe   \n",
        "\n",
        "                                            entities  retweet_count  \\\n",
        "0  {u'hashtags': [{u'indices': [20, 26], u'text':...             19   \n",
        "1  {u'hashtags': [{u'indices': [59, 63], u'text':...            389   \n",
        "2  {u'hashtags': [{u'indices': [77, 92], u'text':...             25   \n",
        "3                                  {u'hashtags': []}          90450   \n",
        "4                                  {u'hashtags': []}          82140   \n",
        "\n",
        "                           hashtags  \\\n",
        "0                           [PHOTO]   \n",
        "1                             [WWI]   \n",
        "2  [VamosArgentina, RumboalMundial]   \n",
        "3                                []   \n",
        "4                                []   \n",
        "\n",
        "                                       hashtags_dict  \n",
        "0                                   [{u'PHOTO': 19}]  \n",
        "1                                    [{u'WWI': 389}]  \n",
        "2  [{u'VamosArgentina': 25}, {u'RumboalMundial': ...  \n",
        "3                                                 []  \n",
        "4                                                 []  "
       ]
      }
     ],
     "prompt_number": 54
    },
    {
     "cell_type": "code",
     "collapsed": false,
     "input": [
      "import numpy as np"
     ],
     "language": "python",
     "metadata": {},
     "outputs": [],
     "prompt_number": 55
    },
    {
     "cell_type": "code",
     "collapsed": false,
     "input": [
      "cn_hashtag_retweet_df = pd.DataFrame({\"hashtag_dict\":np.hstack (cn_retweet_df.hashtags_dict)})\n",
      "cn_hashtag_retweet_df.head()"
     ],
     "language": "python",
     "metadata": {},
     "outputs": [
      {
       "html": [
        "<div style=\"max-height:1000px;max-width:1500px;overflow:auto;\">\n",
        "<table border=\"1\" class=\"dataframe\">\n",
        "  <thead>\n",
        "    <tr style=\"text-align: right;\">\n",
        "      <th></th>\n",
        "      <th>hashtag_dict</th>\n",
        "    </tr>\n",
        "  </thead>\n",
        "  <tbody>\n",
        "    <tr>\n",
        "      <th>0</th>\n",
        "      <td>          {u'PHOTO': 19}</td>\n",
        "    </tr>\n",
        "    <tr>\n",
        "      <th>1</th>\n",
        "      <td>           {u'WWI': 389}</td>\n",
        "    </tr>\n",
        "    <tr>\n",
        "      <th>2</th>\n",
        "      <td> {u'VamosArgentina': 25}</td>\n",
        "    </tr>\n",
        "    <tr>\n",
        "      <th>3</th>\n",
        "      <td> {u'RumboalMundial': 25}</td>\n",
        "    </tr>\n",
        "    <tr>\n",
        "      <th>4</th>\n",
        "      <td>          {u'quebec': 1}</td>\n",
        "    </tr>\n",
        "  </tbody>\n",
        "</table>\n",
        "</div>"
       ],
       "metadata": {},
       "output_type": "pyout",
       "prompt_number": 56,
       "text": [
        "              hashtag_dict\n",
        "0           {u'PHOTO': 19}\n",
        "1            {u'WWI': 389}\n",
        "2  {u'VamosArgentina': 25}\n",
        "3  {u'RumboalMundial': 25}\n",
        "4           {u'quebec': 1}"
       ]
      }
     ],
     "prompt_number": 56
    },
    {
     "cell_type": "code",
     "collapsed": false,
     "input": [
      "def extract_hashtag(hashtag_dict) :\n",
      "    for key,_ in hashtag_dict.iteritems() :\n",
      "        return key\n",
      "        break\n",
      "        \n",
      "def extract_retweet_count(hashtag_dict) :\n",
      "    for _,value in hashtag_dict.iteritems() :\n",
      "        return value\n",
      "        break\n",
      "\n",
      "cn_hashtag_retweet_df[\"hashtag\"] = cn_hashtag_retweet_df.hashtag_dict.apply(extract_hashtag)\n",
      "cn_hashtag_retweet_df[\"retweet_count\"] = cn_hashtag_retweet_df.hashtag_dict.apply(extract_retweet_count)"
     ],
     "language": "python",
     "metadata": {},
     "outputs": [],
     "prompt_number": 57
    },
    {
     "cell_type": "code",
     "collapsed": false,
     "input": [
      "cn_hashtag_retweet_df.head()"
     ],
     "language": "python",
     "metadata": {},
     "outputs": [
      {
       "html": [
        "<div style=\"max-height:1000px;max-width:1500px;overflow:auto;\">\n",
        "<table border=\"1\" class=\"dataframe\">\n",
        "  <thead>\n",
        "    <tr style=\"text-align: right;\">\n",
        "      <th></th>\n",
        "      <th>hashtag_dict</th>\n",
        "      <th>hashtag</th>\n",
        "      <th>retweet_count</th>\n",
        "    </tr>\n",
        "  </thead>\n",
        "  <tbody>\n",
        "    <tr>\n",
        "      <th>0</th>\n",
        "      <td>          {u'PHOTO': 19}</td>\n",
        "      <td>          PHOTO</td>\n",
        "      <td>  19</td>\n",
        "    </tr>\n",
        "    <tr>\n",
        "      <th>1</th>\n",
        "      <td>           {u'WWI': 389}</td>\n",
        "      <td>            WWI</td>\n",
        "      <td> 389</td>\n",
        "    </tr>\n",
        "    <tr>\n",
        "      <th>2</th>\n",
        "      <td> {u'VamosArgentina': 25}</td>\n",
        "      <td> VamosArgentina</td>\n",
        "      <td>  25</td>\n",
        "    </tr>\n",
        "    <tr>\n",
        "      <th>3</th>\n",
        "      <td> {u'RumboalMundial': 25}</td>\n",
        "      <td> RumboalMundial</td>\n",
        "      <td>  25</td>\n",
        "    </tr>\n",
        "    <tr>\n",
        "      <th>4</th>\n",
        "      <td>          {u'quebec': 1}</td>\n",
        "      <td>         quebec</td>\n",
        "      <td>   1</td>\n",
        "    </tr>\n",
        "  </tbody>\n",
        "</table>\n",
        "</div>"
       ],
       "metadata": {},
       "output_type": "pyout",
       "prompt_number": 58,
       "text": [
        "              hashtag_dict         hashtag  retweet_count\n",
        "0           {u'PHOTO': 19}           PHOTO             19\n",
        "1            {u'WWI': 389}             WWI            389\n",
        "2  {u'VamosArgentina': 25}  VamosArgentina             25\n",
        "3  {u'RumboalMundial': 25}  RumboalMundial             25\n",
        "4           {u'quebec': 1}          quebec              1"
       ]
      }
     ],
     "prompt_number": 58
    },
    {
     "cell_type": "code",
     "collapsed": false,
     "input": [
      "cn_hashtag_retweet_df.groupby(cn_hashtag_retweet_df[\"hashtag\"]).sum().sort(['retweet_count'], ascending=0).head(20)"
     ],
     "language": "python",
     "metadata": {},
     "outputs": [
      {
       "html": [
        "<div style=\"max-height:1000px;max-width:1500px;overflow:auto;\">\n",
        "<table border=\"1\" class=\"dataframe\">\n",
        "  <thead>\n",
        "    <tr style=\"text-align: right;\">\n",
        "      <th></th>\n",
        "      <th>retweet_count</th>\n",
        "    </tr>\n",
        "    <tr>\n",
        "      <th>hashtag</th>\n",
        "      <th></th>\n",
        "    </tr>\n",
        "  </thead>\n",
        "  <tbody>\n",
        "    <tr>\n",
        "      <th>CamsNewVideo</th>\n",
        "      <td> 69845</td>\n",
        "    </tr>\n",
        "    <tr>\n",
        "      <th>BeAFanDay</th>\n",
        "      <td> 12961</td>\n",
        "    </tr>\n",
        "    <tr>\n",
        "      <th>NIALLNOTICELIAM</th>\n",
        "      <td>  9255</td>\n",
        "    </tr>\n",
        "    <tr>\n",
        "      <th>niam</th>\n",
        "      <td>  5959</td>\n",
        "    </tr>\n",
        "    <tr>\n",
        "      <th>StraightBugginSon</th>\n",
        "      <td>  5282</td>\n",
        "    </tr>\n",
        "    <tr>\n",
        "      <th>WWI</th>\n",
        "      <td>   783</td>\n",
        "    </tr>\n",
        "    <tr>\n",
        "      <th>niallnoticeliam</th>\n",
        "      <td>   220</td>\n",
        "    </tr>\n",
        "    <tr>\n",
        "      <th>MTVHottest</th>\n",
        "      <td>   218</td>\n",
        "    </tr>\n",
        "    <tr>\n",
        "      <th>exclusive</th>\n",
        "      <td>   166</td>\n",
        "    </tr>\n",
        "    <tr>\n",
        "      <th>Be1DDay</th>\n",
        "      <td>    98</td>\n",
        "    </tr>\n",
        "    <tr>\n",
        "      <th>Niam</th>\n",
        "      <td>    38</td>\n",
        "    </tr>\n",
        "    <tr>\n",
        "      <th>rt</th>\n",
        "      <td>    38</td>\n",
        "    </tr>\n",
        "    <tr>\n",
        "      <th>PHOTO</th>\n",
        "      <td>    36</td>\n",
        "    </tr>\n",
        "    <tr>\n",
        "      <th>niamisreal</th>\n",
        "      <td>    26</td>\n",
        "    </tr>\n",
        "    <tr>\n",
        "      <th>VamosArgentina</th>\n",
        "      <td>    25</td>\n",
        "    </tr>\n",
        "    <tr>\n",
        "      <th>RumboalMundial</th>\n",
        "      <td>    25</td>\n",
        "    </tr>\n",
        "    <tr>\n",
        "      <th>VamosSelecci\u00f3n</th>\n",
        "      <td>    22</td>\n",
        "    </tr>\n",
        "    <tr>\n",
        "      <th>VOLEY</th>\n",
        "      <td>    22</td>\n",
        "    </tr>\n",
        "    <tr>\n",
        "      <th>Polonia</th>\n",
        "      <td>    22</td>\n",
        "    </tr>\n",
        "    <tr>\n",
        "      <th>cdnpoli</th>\n",
        "      <td>    21</td>\n",
        "    </tr>\n",
        "  </tbody>\n",
        "</table>\n",
        "</div>"
       ],
       "metadata": {},
       "output_type": "pyout",
       "prompt_number": 59,
       "text": [
        "                   retweet_count\n",
        "hashtag                         \n",
        "CamsNewVideo               69845\n",
        "BeAFanDay                  12961\n",
        "NIALLNOTICELIAM             9255\n",
        "niam                        5959\n",
        "StraightBugginSon           5282\n",
        "WWI                          783\n",
        "niallnoticeliam              220\n",
        "MTVHottest                   218\n",
        "exclusive                    166\n",
        "Be1DDay                       98\n",
        "Niam                          38\n",
        "rt                            38\n",
        "PHOTO                         36\n",
        "niamisreal                    26\n",
        "VamosArgentina                25\n",
        "RumboalMundial                25\n",
        "VamosSelecci\u00f3n                22\n",
        "VOLEY                         22\n",
        "Polonia                       22\n",
        "cdnpoli                       21"
       ]
      }
     ],
     "prompt_number": 59
    },
    {
     "cell_type": "code",
     "collapsed": false,
     "input": [],
     "language": "python",
     "metadata": {},
     "outputs": [],
     "prompt_number": 59
    },
    {
     "cell_type": "code",
     "collapsed": false,
     "input": [],
     "language": "python",
     "metadata": {},
     "outputs": []
    }
   ],
   "metadata": {}
  }
 ]
}