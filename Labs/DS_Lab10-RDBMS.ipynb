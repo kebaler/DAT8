{
 "metadata": {
  "celltoolbar": "Slideshow",
  "name": "",
  "signature": "sha256:f47c2bacd07d1cd7f1f8e727b1f97e805b34a3a7a819d08ada1cc8af1647b243"
 },
 "nbformat": 3,
 "nbformat_minor": 0,
 "worksheets": [
  {
   "cells": [
    {
     "cell_type": "markdown",
     "metadata": {
      "slideshow": {
       "slide_type": "slide"
      }
     },
     "source": [
      "Lab\n",
      "===================\n",
      "SQL and Pandas Data Frames\n",
      "-------------------\n"
     ]
    },
    {
     "cell_type": "markdown",
     "metadata": {
      "slideshow": {
       "slide_type": "slide"
      }
     },
     "source": [
      "Enron\n",
      "=====\n",
      "\n",
      "<img src=\"http://upload.wikimedia.org/wikipedia/en/thumb/9/9a/Enron_Logo.svg/150px-Enron_Logo.svg.png\" />\n",
      "\n",
      "### Download the sample database at: [tinyurl.com/enron-db](https://github.com/eklypse/GA_DS_SF_2014_01/raw/master/enron.db)\n",
      "Save it in the DAT8/data folder."
     ]
    },
    {
     "cell_type": "markdown",
     "metadata": {
      "slideshow": {
       "slide_type": "subslide"
      }
     },
     "source": [
      "`pip install ipython-sql`  \n",
      "**for sql magic**"
     ]
    },
    {
     "cell_type": "code",
     "collapsed": false,
     "input": [
      "%load_ext sql"
     ],
     "language": "python",
     "metadata": {
      "slideshow": {
       "slide_type": "subslide"
      }
     },
     "outputs": []
    },
    {
     "cell_type": "code",
     "collapsed": false,
     "input": [
      "%%bash\n",
      "sqlite3 ../data/enron.db .tables"
     ],
     "language": "python",
     "metadata": {
      "slideshow": {
       "slide_type": "slide"
      }
     },
     "outputs": []
    },
    {
     "cell_type": "markdown",
     "metadata": {
      "slideshow": {
       "slide_type": "fragment"
      }
     },
     "source": [
      "We only care about the `*Base` tables:\n",
      "\n",
      "- EmployeeBase\n",
      "- MessageBase\n",
      "- RecipientBase\n",
      "\n",
      "(The other tables are derived from those. We don't need them for this exercise.)"
     ]
    },
    {
     "cell_type": "code",
     "collapsed": false,
     "input": [
      "%%sql sqlite:///../data/enron.db\n",
      "SELECT * \n",
      "  FROM EmployeeBase \n",
      " LIMIT 5"
     ],
     "language": "python",
     "metadata": {
      "slideshow": {
       "slide_type": "slide"
      }
     },
     "outputs": []
    },
    {
     "cell_type": "code",
     "collapsed": false,
     "input": [
      "%%sql sqlite:///../data/enron.db\n",
      "SELECT * \n",
      "  FROM MessageBase \n",
      " LIMIT 5"
     ],
     "language": "python",
     "metadata": {
      "slideshow": {
       "slide_type": "subslide"
      }
     },
     "outputs": []
    },
    {
     "cell_type": "markdown",
     "metadata": {
      "slideshow": {
       "slide_type": "fragment"
      }
     },
     "source": [
      "`from_eid` looks like a foreign key"
     ]
    },
    {
     "cell_type": "code",
     "collapsed": false,
     "input": [
      "%%sql sqlite:///../data/enron.db\n",
      "SELECT unix_time, name, department, title, gender, seniority, subject, filename \n",
      "  FROM EmployeeBase eb,\n",
      "       MessageBase mb\n",
      " WHERE eid = from_eid\n",
      " LIMIT 5"
     ],
     "language": "python",
     "metadata": {
      "slideshow": {
       "slide_type": "subslide"
      }
     },
     "outputs": []
    },
    {
     "cell_type": "markdown",
     "metadata": {
      "slideshow": {
       "slide_type": "subslide"
      }
     },
     "source": [
      "Finally, `RecipientBase`:"
     ]
    },
    {
     "cell_type": "code",
     "collapsed": false,
     "input": [
      "%%sql sqlite:///../data/enron.db\n",
      "SELECT * \n",
      "  FROM RecipientBase  \n",
      " LIMIT 9"
     ],
     "language": "python",
     "metadata": {
      "slideshow": {
       "slide_type": "-"
      }
     },
     "outputs": []
    },
    {
     "cell_type": "markdown",
     "metadata": {
      "slideshow": {
       "slide_type": "fragment"
      }
     },
     "source": [
      "It looks like we can use this to determine how many recipients each message received  \n",
      "i.e. `MAX(rno)`"
     ]
    },
    {
     "cell_type": "code",
     "collapsed": false,
     "input": [
      "%%sql sqlite:///../data/enron.db\n",
      "SELECT * \n",
      "  FROM RecipientBase \n",
      " WHERE rno = 57"
     ],
     "language": "python",
     "metadata": {
      "slideshow": {
       "slide_type": "skip"
      }
     },
     "outputs": []
    },
    {
     "cell_type": "code",
     "collapsed": false,
     "input": [
      "%%sql sqlite:///../data/enron.db\n",
      "SELECT * \n",
      "  FROM MessageBase\n",
      " WHERE mid IN (12116, 12151)"
     ],
     "language": "python",
     "metadata": {
      "slideshow": {
       "slide_type": "skip"
      }
     },
     "outputs": []
    },
    {
     "cell_type": "code",
     "collapsed": false,
     "input": [
      "%%sql sqlite:///../data/enron.db\n",
      "SELECT * \n",
      "  FROM EmployeeBase\n",
      " WHERE eid=67"
     ],
     "language": "python",
     "metadata": {
      "slideshow": {
       "slide_type": "skip"
      }
     },
     "outputs": []
    },
    {
     "cell_type": "markdown",
     "metadata": {
      "slideshow": {
       "slide_type": "subslide"
      }
     },
     "source": [
      "Who sent the email to the most recipients?"
     ]
    },
    {
     "cell_type": "code",
     "collapsed": false,
     "input": [
      "%%sql sqlite:///../data/enron.db\n",
      "SELECT name, title, MAX(rno)\n",
      "FROM EmployeeBase eb,\n",
      "     MessageBase mb,\n",
      "     RecipientBase rb\n",
      "WHERE eb.eid = mb.from_eid \n",
      "  AND mb.mid = rb.mid"
     ],
     "language": "python",
     "metadata": {
      "slideshow": {
       "slide_type": "-"
      }
     },
     "outputs": []
    },
    {
     "cell_type": "markdown",
     "metadata": {
      "slideshow": {
       "slide_type": "subslide"
      }
     },
     "source": [
      "Who are the top five senders of mass emails?"
     ]
    },
    {
     "cell_type": "code",
     "collapsed": false,
     "input": [
      "%%sql sqlite:///../data/enron.db\n",
      "  SELECT name, title, MAX(rno) AS recipient_count\n",
      "    FROM EmployeeBase \n",
      "    JOIN MessageBase ON eid = from_eid \n",
      "    JOIN RecipientBase USING(mid) \n",
      "GROUP BY name, title \n",
      "ORDER BY recipient_count DESC \n",
      "   LIMIT 5"
     ],
     "language": "python",
     "metadata": {
      "slideshow": {
       "slide_type": "-"
      }
     },
     "outputs": []
    },
    {
     "cell_type": "heading",
     "level": 1,
     "metadata": {
      "slideshow": {
       "slide_type": "slide"
      }
     },
     "source": [
      "Pandas Data Frames"
     ]
    },
    {
     "cell_type": "code",
     "collapsed": false,
     "input": [
      "import pandas as pd\n",
      "import sqlite3\n",
      "from pandas.io import sql\n",
      "conn = sqlite3.connect('../data/enron.db')"
     ],
     "language": "python",
     "metadata": {
      "slideshow": {
       "slide_type": "subslide"
      }
     },
     "outputs": []
    },
    {
     "cell_type": "code",
     "collapsed": false,
     "input": [
      "sql.read_sql(\"\"\"SELECT mid, unix_time, subject, from_eid \n",
      "                     FROM MessageBase \n",
      "                    LIMIT 5\"\"\", conn, \"mid\")"
     ],
     "language": "python",
     "metadata": {
      "slideshow": {
       "slide_type": "slide"
      }
     },
     "outputs": []
    },
    {
     "cell_type": "code",
     "collapsed": false,
     "input": [
      "MessageBase = sql.read_sql(\"\"\"SELECT mid, unix_time, subject, from_eid \n",
      "                                FROM MessageBase\"\"\", conn, \"mid\")\n",
      "MessageBase.head()"
     ],
     "language": "python",
     "metadata": {
      "slideshow": {
       "slide_type": "fragment"
      }
     },
     "outputs": []
    },
    {
     "cell_type": "markdown",
     "metadata": {
      "slideshow": {
       "slide_type": "subslide"
      }
     },
     "source": [
      "SQL JOIN (with `USING`):"
     ]
    },
    {
     "cell_type": "code",
     "collapsed": false,
     "input": [
      "sql.read_sql(\"\"\"SELECT mb.mid, unix_time, subject, from_eid, rno, to_eid\n",
      "                  FROM MessageBase mb,\n",
      "                       RecipientBase rb\n",
      "                 WHERE mb.mid = rb.mid LIMIT 5\"\"\", conn, \"mid\")"
     ],
     "language": "python",
     "metadata": {
      "slideshow": {
       "slide_type": "-"
      }
     },
     "outputs": []
    },
    {
     "cell_type": "markdown",
     "metadata": {
      "slideshow": {
       "slide_type": "subslide"
      }
     },
     "source": [
      "pandas.DataFrame.join"
     ]
    },
    {
     "cell_type": "code",
     "collapsed": false,
     "input": [
      "RecipientBase = sql.frame_query(\"SELECT * FROM RecipientBase\", conn, \"mid\")\n",
      "MessageBase.join(RecipientBase).head()"
     ],
     "language": "python",
     "metadata": {
      "slideshow": {
       "slide_type": "-"
      }
     },
     "outputs": []
    },
    {
     "cell_type": "markdown",
     "metadata": {
      "slideshow": {
       "slide_type": "slide"
      }
     },
     "source": [
      "SQL JOIN (with `ON`):"
     ]
    },
    {
     "cell_type": "code",
     "collapsed": false,
     "input": [
      "sql.frame_query(\"\"\"SELECT mid, name, title, seniority,\n",
      "                          unix_time, subject, from_eid \n",
      "                     FROM EmployeeBase \n",
      "                     JOIN MessageBase ON eid = from_eid \n",
      "                    LIMIT 5\"\"\", conn, \"mid\")"
     ],
     "language": "python",
     "metadata": {
      "slideshow": {
       "slide_type": "-"
      }
     },
     "outputs": []
    },
    {
     "cell_type": "markdown",
     "metadata": {
      "slideshow": {
       "slide_type": "subslide"
      }
     },
     "source": [
      "pandas.DataFrame.merge"
     ]
    },
    {
     "cell_type": "code",
     "collapsed": false,
     "input": [
      "EmployeeBase = sql.frame_query(\"\"\"SELECT eid, name, title, seniority \n",
      "                                    FROM EmployeeBase\"\"\", conn, \"eid\")\n",
      "EmployeeBase.merge(MessageBase, right_on = 'from_eid', left_index = True).head()"
     ],
     "language": "python",
     "metadata": {
      "slideshow": {
       "slide_type": "-"
      }
     },
     "outputs": []
    },
    {
     "cell_type": "markdown",
     "metadata": {
      "slideshow": {
       "slide_type": "slide"
      }
     },
     "source": [
      "Histograms are a good way to get a feel for the data. For example:"
     ]
    },
    {
     "cell_type": "code",
     "collapsed": false,
     "input": [
      "MessageBase.unix_time.hist()"
     ],
     "language": "python",
     "metadata": {
      "slideshow": {
       "slide_type": "-"
      }
     },
     "outputs": []
    },
    {
     "cell_type": "code",
     "collapsed": false,
     "input": [
      "MessageBase.unix_time.mean()"
     ],
     "language": "python",
     "metadata": {
      "slideshow": {
       "slide_type": "skip"
      }
     },
     "outputs": []
    },
    {
     "cell_type": "markdown",
     "metadata": {
      "slideshow": {
       "slide_type": "fragment"
      }
     },
     "source": [
      "What does this tell us? "
     ]
    },
    {
     "cell_type": "markdown",
     "metadata": {
      "slideshow": {
       "slide_type": "slide"
      }
     },
     "source": [
      "Convert `unix_time` to human readable form (i.e. `datetime`)"
     ]
    },
    {
     "cell_type": "markdown",
     "metadata": {
      "slideshow": {
       "slide_type": "notes"
      }
     },
     "source": [
      "`unix_time` (i.e. `unixepoch`) is easy for computers to read, but difficult for humans. It is the number of seconds since midnight, January 1, 1970. To make it more readable, we will map datetime.fromtimestamp onto that value to return a datetime object. We can then downsample the data from seconds to weeks. "
     ]
    },
    {
     "cell_type": "code",
     "collapsed": false,
     "input": [
      "%matplotlib inline\n",
      "from datetime import datetime\n",
      "dt = MessageBase.unix_time.map(datetime.fromtimestamp)\n",
      "dt.head()"
     ],
     "language": "python",
     "metadata": {
      "slideshow": {
       "slide_type": "-"
      }
     },
     "outputs": []
    },
    {
     "cell_type": "code",
     "collapsed": false,
     "input": [
      "messages_grouped_by_week=MessageBase.groupby(dt).unix_time.count().resample('1W', how='sum')\n",
      "messages_grouped_by_week.head()"
     ],
     "language": "python",
     "metadata": {},
     "outputs": []
    },
    {
     "cell_type": "code",
     "collapsed": false,
     "input": [
      "import numpy as np\n",
      "messages_grouped_by_week_pd=pd.DataFrame({\"unix_time\":messages_grouped_by_week.index,\n",
      "                                             \"count\":messages_grouped_by_week.values},\n",
      "                                         index=np.arange(len(messages_grouped_by_week_pd) ))\n",
      "messages_grouped_by_week_pd.head()"
     ],
     "language": "python",
     "metadata": {},
     "outputs": []
    },
    {
     "cell_type": "code",
     "collapsed": false,
     "input": [
      "from ggplot import *\n",
      "print ggplot(messages_grouped_by_week_pd, aes('unix_time','count')) + \\\n",
      "    geom_line(color='black')"
     ],
     "language": "python",
     "metadata": {},
     "outputs": []
    },
    {
     "cell_type": "markdown",
     "metadata": {
      "slideshow": {
       "slide_type": "fragment"
      }
     },
     "source": [
      "What does this tell us?"
     ]
    },
    {
     "cell_type": "markdown",
     "metadata": {
      "slideshow": {
       "slide_type": "slide"
      }
     },
     "source": [
      "Consider recipient counts (i.e. `MAX(rno)`)"
     ]
    },
    {
     "cell_type": "markdown",
     "metadata": {
      "slideshow": {
       "slide_type": "notes"
      }
     },
     "source": [
      "Perhaps the recipient counts would be interesting as well. This time we will cast `unix_time` to a datetime string in our query. Since this is a new query, we will also make sure it looks okay by calling `.head()` before we do anyting else:"
     ]
    },
    {
     "cell_type": "code",
     "collapsed": false,
     "input": [
      "recipient_counts = sql.frame_query(\"\"\"SELECT rb.mid, datetime(unix_time, 'unixepoch') AS time_sent, \n",
      "                                             MAX(rno) AS recipient_count \n",
      "                                        FROM MessageBase mb,\n",
      "                                             RecipientBase rb\n",
      "                                       WHERE mb.mid = rb.mid \n",
      "                                       GROUP BY mb.mid, time_sent\"\"\", \n",
      "                                   conn, \"mid\")\n",
      "recipient_counts.head()"
     ],
     "language": "python",
     "metadata": {
      "slideshow": {
       "slide_type": "fragment"
      }
     },
     "outputs": []
    },
    {
     "cell_type": "markdown",
     "metadata": {
      "slideshow": {
       "slide_type": "slide"
      }
     },
     "source": [
      "grouping objects"
     ]
    },
    {
     "cell_type": "markdown",
     "metadata": {
      "slideshow": {
       "slide_type": "notes"
      }
     },
     "source": [
      "When using `pandas.DataFrame.groupby` it is sometimes useful to create a grouping object first. In this case, we will do it by mapping the datetime strings we received from SQLite to a weekly period. (This could also have been done in SQL, but it would have come across as a string. This way it exists as a `pandas.Period` object which has more intelligence.)"
     ]
    },
    {
     "cell_type": "code",
     "collapsed": false,
     "input": [
      "w = recipient_counts.time_sent.map(lambda dt: pd.Period(dt, freq='W'))\n",
      "recipient_counts.groupby(w).recipient_count.mean().plot(ylim=(0,10))\n"
     ],
     "language": "python",
     "metadata": {
      "slideshow": {
       "slide_type": "-"
      }
     },
     "outputs": []
    },
    {
     "cell_type": "markdown",
     "metadata": {
      "slideshow": {
       "slide_type": "slide"
      }
     },
     "source": [
      "Lab\n",
      "============\n",
      "Pairs\n",
      "------------"
     ]
    },
    {
     "cell_type": "markdown",
     "metadata": {},
     "source": [
      "Use [`matplotlib.pyplot.scatter`](http://matplotlib.org/api/pyplot_api.html#matplotlib.pyplot.scatter) (or `plt.scatter` for short) <br/> \n",
      "or ggplot :  geom_point\n",
      "\n",
      "to plot the length of the `subject`s against the `recipient_count`."
     ]
    },
    {
     "cell_type": "markdown",
     "metadata": {
      "slideshow": {
       "slide_type": "skip"
      }
     },
     "source": [
      "Remember to take advantage of IPython's help functionality when needed."
     ]
    },
    {
     "cell_type": "code",
     "collapsed": false,
     "input": [
      "ggplot?"
     ],
     "language": "python",
     "metadata": {
      "slideshow": {
       "slide_type": "skip"
      }
     },
     "outputs": []
    },
    {
     "cell_type": "markdown",
     "metadata": {
      "slideshow": {
       "slide_type": "fragment"
      }
     },
     "source": [
      "Pairs Lab Part 2 or Individually:\n",
      "------------\n",
      "Plot the `median` `subject` `len`gth over time (using the same weekly grouping object above)"
     ]
    },
    {
     "cell_type": "markdown",
     "metadata": {
      "slideshow": {
       "slide_type": "skip"
      }
     },
     "source": [
      "## Even more exercises: \n",
      "1. Try to find your own discoveries! (e.g. is there anything interesting you could say about the subjects of the emails. \n",
      "1. What about who sent the first ones and who sent the last ones? \n",
      "1. What about the recipients themselves? (hint: `to_eid` is a foreign key to `eid`)"
     ]
    },
    {
     "cell_type": "markdown",
     "metadata": {
      "slideshow": {
       "slide_type": "skip"
      }
     },
     "source": [
      "See [Pandas for SQL Developers](http://nbviewer.ipython.org/urls/bitbucket.org/hrojas/learn-pandas/raw/master/lessons/Pandas%20for%20SQL%20Developers.ipynb) for more examples about how Pandas and SQL compare."
     ]
    }
   ],
   "metadata": {}
  }
 ]
}